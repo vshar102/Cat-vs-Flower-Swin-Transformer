{
 "cells": [
  {
   "cell_type": "markdown",
   "id": "3f780a5d-fc68-4123-b8e2-2a966c3966bd",
   "metadata": {},
   "source": [
    "### Simplified Code for Image Recognition b/w Cat & Flower Images"
   ]
  },
  {
   "cell_type": "code",
   "execution_count": 71,
   "id": "da811a48",
   "metadata": {},
   "outputs": [],
   "source": [
    "import torch\n",
    "import torch.nn as nn\n",
    "import torchvision.transforms as transforms\n",
    "from torch.utils.data import DataLoader\n",
    "from torchvision import datasets\n",
    "import matplotlib.pyplot as plt\n",
    "\n",
    "from PIL import Image  # Original import\n",
    "\n",
    "# Import for precision, recall, and F1 score\n",
    "from sklearn.metrics import precision_score, recall_score, f1_score  # Original\n",
    "\n",
    "# Pretrained SwinTransformer import\n",
    "import timm  # New addition"
   ]
  },
  {
   "cell_type": "code",
   "execution_count": 72,
   "id": "fc2f66f1",
   "metadata": {},
   "outputs": [],
   "source": [
    "# Define the SwinTransformer model (using pretrained model)\n",
    "class SwinTransformer(nn.Module):  # Updated class definition\n",
    "    def __init__(self, num_classes=2):\n",
    "        super(SwinTransformer, self).__init__()\n",
    "        # Use pre-trained SwinTransformer from timm\n",
    "        self.model = timm.create_model('swin_tiny_patch4_window7_224', pretrained=True, num_classes=num_classes)  # New addition\n",
    "\n",
    "    def forward(self, x):\n",
    "        return self.model(x)  # New addition"
   ]
  },
  {
   "cell_type": "code",
   "execution_count": 73,
   "id": "06e395b1",
   "metadata": {},
   "outputs": [],
   "source": [
    "# Set device\n",
    "device = torch.device(\"cuda\" if torch.cuda.is_available() else \"cpu\")"
   ]
  },
  {
   "cell_type": "code",
   "execution_count": 74,
   "id": "34871161",
   "metadata": {},
   "outputs": [],
   "source": [
    "# Data transforms with augmentation (New addition)\n",
    "transform = transforms.Compose([\n",
    "    transforms.Resize((224, 224)),  # Original\n",
    "    transforms.RandomHorizontalFlip(),  # New addition\n",
    "    transforms.RandomRotation(10),  # New addition\n",
    "    transforms.ColorJitter(brightness=0.2, contrast=0.2, saturation=0.2, hue=0.2),  # New addition\n",
    "    transforms.ToTensor(),  # Original\n",
    "])\n",
    "\n",
    "# This portion of the code can be further expanded or put in more detail for image segmentation, contour detection or image quality assessment."
   ]
  },
  {
   "cell_type": "code",
   "execution_count": 75,
   "id": "9e88a659",
   "metadata": {},
   "outputs": [],
   "source": [
    "# Load data\n",
    "train_data = datasets.ImageFolder('C:/Users/sharm/Downloads/Cat_train', transform=transform)  # Original\n",
    "test_data = datasets.ImageFolder('C:/Users/sharm/Downloads/Cat_test', transform=transform)  # Original\n",
    "\n",
    "train_loader = DataLoader(train_data, batch_size=32, shuffle=True)  # Original\n",
    "test_loader = DataLoader(test_data, batch_size=32, shuffle=False)  # Original\n"
   ]
  },
  {
   "cell_type": "code",
   "execution_count": 76,
   "id": "b26792db",
   "metadata": {},
   "outputs": [],
   "source": [
    "# Initialize model, loss, and optimizer\n",
    "model = SwinTransformer().to(device)  # Updated model to use pretrained SwinTransformer\n",
    "criterion = nn.CrossEntropyLoss()  # Original\n",
    "optimizer = torch.optim.Adam(model.parameters(), lr=1e-3, weight_decay=0.3)  # Original learning rate and weight decay retained\n"
   ]
  },
  {
   "cell_type": "code",
   "execution_count": 77,
   "id": "0f93c591",
   "metadata": {},
   "outputs": [],
   "source": [
    "# Training loop\n",
    "def train(epochs):\n",
    "    for epoch in range(epochs):\n",
    "        model.train()\n",
    "        for images, labels in train_loader:\n",
    "            images, labels = images.to(device), labels.to(device)\n",
    "\n",
    "            optimizer.zero_grad()\n",
    "            outputs = model(images)\n",
    "            loss = criterion(outputs, labels)\n",
    "            loss.backward()\n",
    "            optimizer.step()\n",
    "\n",
    "        print(f'Epoch [{epoch+1}/{epochs}], Loss: {loss.item():.4f}')  # Original"
   ]
  },
  {
   "cell_type": "code",
   "execution_count": 78,
   "id": "848bcc24",
   "metadata": {},
   "outputs": [],
   "source": [
    "# Test function\n",
    "def test():\n",
    "    model.eval()  # Original\n",
    "    correct = 0\n",
    "    total = 0\n",
    "    with torch.no_grad():\n",
    "        for images, labels in test_loader:\n",
    "            images, labels = images.to(device), labels.to(device)\n",
    "            outputs = model(images)\n",
    "            _, predicted = torch.max(outputs.data, 1)\n",
    "            total += labels.size(0)\n",
    "            correct += (predicted == labels).sum().item()\n",
    "\n",
    "    print(f'Accuracy on test images: {100 * correct / total}%')  # Original\n"
   ]
  },
  {
   "cell_type": "code",
   "execution_count": 79,
   "id": "169fc98d",
   "metadata": {},
   "outputs": [
    {
     "name": "stdout",
     "output_type": "stream",
     "text": [
      "Epoch [1/10], Loss: 0.7400\n",
      "Epoch [2/10], Loss: 0.5016\n",
      "Epoch [3/10], Loss: 0.2741\n",
      "Epoch [4/10], Loss: 0.1330\n",
      "Epoch [5/10], Loss: 0.1064\n",
      "Epoch [6/10], Loss: 0.0407\n",
      "Epoch [7/10], Loss: 0.0301\n",
      "Epoch [8/10], Loss: 0.0293\n",
      "Epoch [9/10], Loss: 0.0154\n",
      "Epoch [10/10], Loss: 0.0236\n",
      "Accuracy on test images: 66.66666666666667%\n"
     ]
    }
   ],
   "source": [
    "# Train the model\n",
    "train(epochs=10)  # Original\n",
    "\n",
    "# Test the model\n",
    "test()  # Original"
   ]
  },
  {
   "cell_type": "code",
   "execution_count": 80,
   "id": "f56c0f62",
   "metadata": {},
   "outputs": [],
   "source": [
    "# Function to predict on a single image\n",
    "def predict_image(image_path):\n",
    "    image = Image.open(image_path)  # Original\n",
    "    image = transform(image).unsqueeze(0).to(device)  # Original\n",
    "    \n",
    "    model.eval()  # Set the model to evaluation mode (Original)\n",
    "    with torch.no_grad():  # Original\n",
    "        output = model(image)\n",
    "        _, predicted = torch.max(output, 1)\n",
    "    \n",
    "    return train_data.classes[predicted.item()]  # Original"
   ]
  },
  {
   "cell_type": "code",
   "execution_count": 81,
   "id": "6633496e",
   "metadata": {},
   "outputs": [
    {
     "name": "stdout",
     "output_type": "stream",
     "text": [
      "Prediction: class_2\n"
     ]
    }
   ],
   "source": [
    "# Example usage\n",
    "custom_image_path = \"C:/Users/sharm/Downloads/Cat_test/class_2/unnamed.png\"  # Original; other option for test image is 's1'.\n",
    "prediction = predict_image(custom_image_path)  # Original\n",
    "print(f\"Prediction: {prediction}\")  # Original"
   ]
  },
  {
   "cell_type": "markdown",
   "id": "82099b2b",
   "metadata": {},
   "source": [
    "class_1 denotes cat image \n",
    "\n",
    "class_2 denotes flower/miscellaneous image\n",
    "\n",
    "We can also have a small function to view the image before running the prediction model to see whether the image is of cat or flower.\n"
   ]
  },
  {
   "cell_type": "code",
   "execution_count": 82,
   "id": "f6267303",
   "metadata": {},
   "outputs": [],
   "source": [
    "all_preds = []\n",
    "all_labels = []"
   ]
  },
  {
   "cell_type": "code",
   "execution_count": 83,
   "id": "99fe346f",
   "metadata": {},
   "outputs": [],
   "source": [
    "# Collect predictions for the test set\n",
    "with torch.no_grad():  # Original\n",
    "    for images, labels in test_loader:\n",
    "        images, labels = images.to(device), labels.to(device)\n",
    "        outputs = model(images)\n",
    "        _, predicted = torch.max(outputs.data, 1)\n",
    "        all_preds.extend(predicted.cpu().numpy())\n",
    "        all_labels.extend(labels.cpu().numpy())"
   ]
  },
  {
   "cell_type": "code",
   "execution_count": 84,
   "id": "df31d49d",
   "metadata": {},
   "outputs": [
    {
     "name": "stdout",
     "output_type": "stream",
     "text": [
      "Recall: 0.6666666666666666\n",
      "F1 Score: 0.6926406926406927\n"
     ]
    }
   ],
   "source": [
    "# Compute and print recall and F1 score\n",
    "recall = recall_score(all_labels, all_preds, average='weighted')  # Original\n",
    "f1 = f1_score(all_labels, all_preds, average='weighted')  # Original\n",
    "\n",
    "print(f'Recall: {recall}')  # Original\n",
    "print(f'F1 Score: {f1}')  # Original"
   ]
  }
 ],
 "metadata": {
  "kernelspec": {
   "display_name": "Python 3 (ipykernel)",
   "language": "python",
   "name": "python3"
  },
  "language_info": {
   "codemirror_mode": {
    "name": "ipython",
    "version": 3
   },
   "file_extension": ".py",
   "mimetype": "text/x-python",
   "name": "python",
   "nbconvert_exporter": "python",
   "pygments_lexer": "ipython3",
   "version": "3.9.12"
  }
 },
 "nbformat": 4,
 "nbformat_minor": 5
}
